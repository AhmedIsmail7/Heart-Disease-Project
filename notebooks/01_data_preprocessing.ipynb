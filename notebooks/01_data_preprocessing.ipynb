{
 "cells": [
  {
   "cell_type": "code",
   "execution_count": null,
   "metadata": {},
   "outputs": [],
   "source": [
    "import pandas as pd\n",
    "import numpy as np\n",
    "import seaborn as sns\n",
    "import matplotlib.pyplot as plt"
   ]
  },
  {
   "cell_type": "code",
   "execution_count": null,
   "metadata": {},
   "outputs": [],
   "source": [
    "print(\"Step 1: Loading the dataset...\")\n",
    "try:\n",
    "    df = pd.read_csv('/kaggle/input/heart-disease-uci/heart.csv')\n",
    "    print(\"Dataset loaded successfully from local path.\")\n",
    "except FileNotFoundError:\n",
    "    print(\"Local file not found. Loading from a remote URL...\")\n",
    "    url = 'https://archive.ics.uci.edu/ml/machine-learning-databases/heart-disease/processed.cleveland.data'\n",
    "    column_names = ['age', 'sex', 'cp', 'trestbps', 'chol', 'fbs', 'restecg', 'thalach', 'exang', 'oldpeak', 'slope', 'ca', 'thal', 'target']\n",
    "    df = pd.read_csv(url, header=None, names=column_names)\n",
    "    print(\"Dataset loaded successfully from remote URL.\")\n",
    "\n",
    "df.to_csv('data/heart_disease.csv', index=False)\n",
    "\n",
    "print(\"\\nInitial Dataset Info:\")\n",
    "df.info()\n",
    "print(\"\\nFirst 5 rows of the dataset:\")\n",
    "print(df.head())"
   ]
  },
  {
   "cell_type": "code",
   "execution_count": null,
   "metadata": {},
   "outputs": [],
   "source": [
    "print(\"\\nStep 2: Handling missing values...\")\n",
    "df.replace('?', np.nan, inplace=True)\n",
    "\n",
    "print(\"\\nMissing values before handling:\")\n",
    "print(df.isnull().sum())\n",
    "\n",
    "df['ca'] = pd.to_numeric(df['ca'])\n",
    "df['thal'] = pd.to_numeric(df['thal'])\n",
    "\n",
    "for col in ['ca', 'thal']:\n",
    "    median_val = df[col].median()\n",
    "    df[col].fillna(median_val, inplace=True)\n",
    "\n",
    "print(\"\\nMissing values after handling:\")\n",
    "print(df.isnull().sum())"
   ]
  },
  {
   "cell_type": "code",
   "execution_count": null,
   "metadata": {},
   "outputs": [],
   "source": [
    "print(\"\\nStep 3: Performing one-hot encoding for categorical variables...\")\n",
    "\n",
    "categorical_cols = ['sex', 'cp', 'fbs', 'restecg', 'exang', 'slope', 'ca', 'thal']\n",
    "df = pd.get_dummies(df, columns=categorical_cols, drop_first=True)\n",
    "\n",
    "print(\"\\nDataset shape after one-hot encoding:\", df.shape)\n",
    "print(\"\\nFirst 5 rows of the dataset after encoding:\")\n",
    "print(df.head())"
   ]
  },
  {
   "cell_type": "code",
   "execution_count": null,
   "metadata": {},
   "outputs": [],
   "source": [
    "print(\"\\nStep 4: Standardizing numerical features...\")\n",
    "\n",
    "from sklearn.preprocessing import StandardScaler\n",
    "\n",
    "numerical_cols = ['age', 'trestbps', 'chol', 'thalach', 'oldpeak']\n",
    "\n",
    "scaler = StandardScaler()\n",
    "df[numerical_cols] = scaler.fit_transform(df[numerical_cols])\n",
    "\n",
    "print(\"\\nFirst 5 rows of the dataset after scaling:\")\n",
    "print(df.head())"
   ]
  },
  {
   "cell_type": "code",
   "execution_count": null,
   "metadata": {
    "trusted": true
   },
   "outputs": [],
   "source": [
    "\n",
    "print(\"\\nStep 5: Conducting Exploratory Data Analysis (EDA)...\")\n",
    "\n",
    "plt.figure(figsize=(18, 15))\n",
    "sns.heatmap(df.corr(), annot=True, cmap='viridis', fmt='.2f')\n",
    "plt.title('Correlation Heatmap of Features', fontsize=20)\n",
    "plt.show()\n",
    "\n",
    "print(\"\\nDisplaying histograms for original numerical features (before scaling)...\")\n",
    "\n",
    "try:\n",
    "    df_eda = pd.read_csv('/kaggle/input/heart-disease-uci/heart.csv')\n",
    "except FileNotFoundError:\n",
    "    df_eda = pd.read_csv(url, header=None, names=column_names)\n",
    "df_eda.replace('?', np.nan, inplace=True)\n",
    "df_eda.dropna(inplace=True) \n",
    "for col in ['ca', 'thal']:\n",
    "    df_eda[col] = pd.to_numeric(df_eda[col])\n",
    "\n",
    "df_eda[numerical_cols].hist(bins=20, figsize=(15, 10), layout=(2, 3))\n",
    "plt.suptitle('Histograms of Numerical Features')\n",
    "plt.show()\n",
    "\n",
    "plt.figure(figsize=(15, 10))\n",
    "for i, col in enumerate(numerical_cols):\n",
    "    plt.subplot(2, 3, i + 1)\n",
    "    sns.boxplot(x='target', y=col, data=df_eda)\n",
    "    plt.title(f'{col} vs. Target')\n",
    "plt.tight_layout()\n",
    "plt.show()\n",
    "\n",
    "print(\"\\nEDA visualizations have been generated.\")\n",
    "\n",
    "print(\"\\nConverting target to binary classification (0: No Disease, 1: Disease)...\")\n",
    "df['target'] = (df['target'] > 0).astype(int)\n",
    "\n",
    "print(\"\\nValue counts of the new binary target:\")\n",
    "print(df['target'].value_counts())\n",
    "\n",
    "distribution = df['target'].value_counts(normalize=True) * 100\n",
    "print(\"Target variable distribution:\")\n",
    "print(distribution)\n",
    "\n",
    "\n",
    "print(\"\\nData preprocessing and cleaning complete.\")\n",
    "df.to_csv('cleaned_heart_disease.csv', index=False)\n",
    "print(\"Cleaned dataset saved to 'cleaned_heart_disease.csv'.\")"
   ]
  }
 ],
 "metadata": {
  "kaggle": {
   "accelerator": "none",
   "dataSources": [],
   "isGpuEnabled": false,
   "isInternetEnabled": true,
   "language": "python",
   "sourceType": "notebook"
  },
  "kernelspec": {
   "display_name": "Python 3",
   "language": "python",
   "name": "python3"
  },
  "language_info": {
   "codemirror_mode": {
    "name": "ipython",
    "version": 3
   },
   "file_extension": ".py",
   "mimetype": "text/x-python",
   "name": "python",
   "nbconvert_exporter": "python",
   "pygments_lexer": "ipython3",
   "version": "3.6.4"
  }
 },
 "nbformat": 4,
 "nbformat_minor": 4
}
