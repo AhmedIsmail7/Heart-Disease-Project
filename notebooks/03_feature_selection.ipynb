{
 "cells": [
  {
   "cell_type": "code",
   "execution_count": null,
   "metadata": {},
   "outputs": [],
   "source": [
    "import pandas as pd\n",
    "import numpy as np\n",
    "import matplotlib.pyplot as plt\n",
    "import seaborn as sns\n",
    "from sklearn.ensemble import RandomForestClassifier\n",
    "from sklearn.feature_selection import RFE, chi2, SelectKBest"
   ]
  },
  {
   "cell_type": "code",
   "execution_count": null,
   "metadata": {},
   "outputs": [],
   "source": [
    "try:\n",
    "    df = pd.read_csv('cleaned_heart_disease.csv')\n",
    "    print(\"Cleaned dataset loaded successfully.\")\n",
    "except FileNotFoundError:\n",
    "    print(\"Error: 'cleaned_heart_disease.csv' not found.\")\n",
    "    exit()\n",
    "\n",
    "X = df.drop('target', axis=1)\n",
    "y = df['target']"
   ]
  },
  {
   "cell_type": "code",
   "execution_count": null,
   "metadata": {},
   "outputs": [],
   "source": [
    "print(\"\\nStep 1: Calculating Feature Importance using Random Forest...\")\n",
    "rf = RandomForestClassifier(n_estimators=100, random_state=42)\n",
    "rf.fit(X, y)\n",
    "\n",
    "importances = pd.Series(rf.feature_importances_, index=X.columns).sort_values(ascending=False)\n",
    "\n",
    "plt.figure(figsize=(12, 8))\n",
    "sns.barplot(x=importances, y=importances.index)\n",
    "plt.title('Feature Importance from Random Forest')\n",
    "plt.xlabel('Importance Score')\n",
    "plt.ylabel('Features')\n",
    "plt.show()"
   ]
  },
  {
   "cell_type": "code",
   "execution_count": null,
   "metadata": {},
   "outputs": [],
   "source": [
    "print(\"\\nStep 2: Applying Recursive Feature Elimination (RFE)...\")\n",
    "rfe = RFE(estimator=RandomForestClassifier(random_state=42), n_features_to_select=10)\n",
    "rfe.fit(X, y)\n",
    "\n",
    "rfe_features = X.columns[rfe.support_]\n",
    "print(\"Selected features via RFE:\", list(rfe_features))\n"
   ]
  },
  {
   "cell_type": "code",
   "execution_count": null,
   "metadata": {},
   "outputs": [],
   "source": [
    "print(\"\\nStep 3: Applying Chi-Square Test...\")\n",
    "\n",
    "from sklearn.preprocessing import MinMaxScaler\n",
    "X_chi = df.drop('target', axis=1)\n",
    "X_chi = MinMaxScaler().fit_transform(X_chi)\n",
    "\n",
    "chi2_selector = SelectKBest(score_func=chi2, k=10)\n",
    "chi2_selector.fit(X_chi, y)\n",
    "\n",
    "chi2_scores = pd.DataFrame({'Feature': X.columns, 'Chi2_Score': chi2_selector.scores_})\n",
    "print(\"\\nChi-Square Scores for Features:\")\n",
    "print(chi2_scores.sort_values(by='Chi2_Score', ascending=False))"
   ]
  },
  {
   "cell_type": "code",
   "execution_count": null,
   "metadata": {
    "trusted": true
   },
   "outputs": [],
   "source": [
    "print(\"\\nSelecting final features based on Random Forest importance...\")\n",
    "final_features = importances.index[:12].tolist()\n",
    "print(\"Final selected features:\", final_features)\n",
    "\n",
    "df_reduced = df[final_features + ['target']]\n",
    "df_reduced.to_csv('feature_selected_dataset.csv', index=False)\n",
    "print(\"\\nReduced dataset saved to 'feature_selected_dataset.csv'.\")\n",
    "print(\"Shape of reduced dataset:\", df_reduced.shape)"
   ]
  }
 ],
 "metadata": {
  "kaggle": {
   "accelerator": "none",
   "dataSources": [],
   "isGpuEnabled": false,
   "isInternetEnabled": true,
   "language": "python",
   "sourceType": "notebook"
  },
  "kernelspec": {
   "display_name": "Python 3",
   "language": "python",
   "name": "python3"
  },
  "language_info": {
   "codemirror_mode": {
    "name": "ipython",
    "version": 3
   },
   "file_extension": ".py",
   "mimetype": "text/x-python",
   "name": "python",
   "nbconvert_exporter": "python",
   "pygments_lexer": "ipython3",
   "version": "3.6.4"
  }
 },
 "nbformat": 4,
 "nbformat_minor": 4
}
