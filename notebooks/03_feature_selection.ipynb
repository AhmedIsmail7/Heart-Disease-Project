{
 "cells": [
  {
   "cell_type": "markdown",
   "metadata": {},
   "source": [
    "### Importing libraries"
   ]
  },
  {
   "cell_type": "code",
   "execution_count": 1,
   "metadata": {},
   "outputs": [],
   "source": [
    "import pandas as pd\n",
    "import numpy as np\n",
    "import matplotlib.pyplot as plt\n",
    "import seaborn as sns\n",
    "from sklearn.ensemble import RandomForestClassifier\n",
    "from sklearn.feature_selection import RFE, chi2, SelectKBest\n",
    "import joblib"
   ]
  },
  {
   "cell_type": "markdown",
   "metadata": {},
   "source": [
    "### Loading the dataset after performing PCA "
   ]
  },
  {
   "cell_type": "code",
   "execution_count": 2,
   "metadata": {},
   "outputs": [
    {
     "name": "stdout",
     "output_type": "stream",
     "text": [
      "PCA dataset loaded successfully.\n"
     ]
    }
   ],
   "source": [
    "try:\n",
    "    df = pd.read_csv('pca_transformed_dataset.csv')\n",
    "    print(\"PCA dataset loaded successfully.\")\n",
    "except FileNotFoundError:\n",
    "    print(\"Error: 'pca_transformed_dataset.csv' not found.\")\n",
    "    exit()\n",
    "\n",
    "X = df.drop('target', axis=1)\n",
    "y = df['target']"
   ]
  },
  {
   "cell_type": "markdown",
   "metadata": {},
   "source": [
    "### Feature importance analysis with Random Forest"
   ]
  },
  {
   "cell_type": "code",
   "execution_count": 3,
   "metadata": {},
   "outputs": [
    {
     "name": "stdout",
     "output_type": "stream",
     "text": [
      "\n",
      "Step 1: Calculating Feature Importance using Random Forest...\n"
     ]
    },
    {
     "data": {
      "image/png": "[encoded data removed]",
      "text/plain": [
       "<Figure size 1200x800 with 1 Axes>"
      ]
     },
     "metadata": {},
     "output_type": "display_data"
    }
   ],
   "source": [
    "print(\"\\nStep 1: Calculating Feature Importance using Random Forest...\")\n",
    "rf = RandomForestClassifier(n_estimators=100, random_state=42)\n",
    "rf.fit(X, y)\n",
    "\n",
    "importances = pd.Series(rf.feature_importances_, index=X.columns).sort_values(ascending=False)\n",
    "\n",
    "plt.figure(figsize=(12, 8))\n",
    "sns.barplot(x=importances, y=importances.index)\n",
    "plt.title('Feature Importance from Random Forest')\n",
    "plt.xlabel('Importance Score')\n",
    "plt.ylabel('Features')\n",
    "plt.show()"
   ]
  },
  {
   "cell_type": "markdown",
   "metadata": {},
   "source": [
    "### Recursive Feature Elimination (RFE)"
   ]
  },
  {
   "cell_type": "code",
   "execution_count": 4,
   "metadata": {},
   "outputs": [
    {
     "name": "stdout",
     "output_type": "stream",
     "text": [
      "\n",
      "Step 2: Applying Recursive Feature Elimination (RFE)...\n",
      "Selected features via RFE: ['PC_1', 'PC_2', 'PC_4', 'PC_5', 'PC_6', 'PC_7', 'PC_8', 'PC_10', 'PC_11', 'PC_12']\n"
     ]
    }
   ],
   "source": [
    "print(\"\\nStep 2: Applying Recursive Feature Elimination (RFE)...\")\n",
    "rfe = RFE(estimator=RandomForestClassifier(random_state=42), n_features_to_select=10)\n",
    "rfe.fit(X, y)\n",
    "\n",
    "rfe_features = X.columns[rfe.support_]\n",
    "print(\"Selected features via RFE:\", list(rfe_features))\n"
   ]
  },
  {
   "cell_type": "markdown",
   "metadata": {},
   "source": [
    "### Chi-Square Test"
   ]
  },
  {
   "cell_type": "code",
   "execution_count": 5,
   "metadata": {},
   "outputs": [
    {
     "name": "stdout",
     "output_type": "stream",
     "text": [
      "\n",
      "Step 3: Applying Chi-Square Test...\n",
      "\n",
      "Chi-Square Scores for Features:\n",
      "   Feature  Chi2_Score\n",
      "0     PC_1    7.260847\n",
      "5     PC_6    2.536844\n",
      "1     PC_2    0.684040\n",
      "3     PC_4    0.598552\n",
      "6     PC_7    0.536539\n",
      "4     PC_5    0.536499\n",
      "8     PC_9    0.063866\n",
      "7     PC_8    0.024859\n",
      "9    PC_10    0.015528\n",
      "10   PC_11    0.012046\n",
      "12   PC_13    0.011730\n",
      "11   PC_12    0.000247\n",
      "2     PC_3    0.000065\n"
     ]
    },
    {
     "data": {
      "text/plain": [
       "['E:/VS Code Projects/Heart-Disease-Project/model/chi2_selector.pkl']"
      ]
     },
     "execution_count": 5,
     "metadata": {},
     "output_type": "execute_result"
    }
   ],
   "source": [
    "print(\"\\nStep 3: Applying Chi-Square Test...\")\n",
    "\n",
    "from sklearn.preprocessing import MinMaxScaler\n",
    "X_chi = df.drop('target', axis=1)\n",
    "X_chi = MinMaxScaler().fit_transform(X_chi)\n",
    "\n",
    "chi2_selector = SelectKBest(score_func=chi2, k=10)\n",
    "chi2_selector.fit(X_chi, y)\n",
    "\n",
    "chi2_scores = pd.DataFrame({'Feature': X.columns, 'Chi2_Score': chi2_selector.scores_})\n",
    "print(\"\\nChi-Square Scores for Features:\")\n",
    "print(chi2_scores.sort_values(by='Chi2_Score', ascending=False))\n",
    "\n",
    "joblib.dump(chi2_selector, 'E:/VS Code Projects/Heart-Disease-Project/model/chi2_selector.pkl')\n"
   ]
  },
  {
   "cell_type": "markdown",
   "metadata": {},
   "source": [
    "### Selecting the final features "
   ]
  },
  {
   "cell_type": "code",
   "execution_count": 6,
   "metadata": {
    "trusted": true
   },
   "outputs": [
    {
     "name": "stdout",
     "output_type": "stream",
     "text": [
      "\n",
      "Selecting final features based on Random Forest importance...\n",
      "Final selected features: ['PC_1', 'PC_6', 'PC_5', 'PC_11', 'PC_2', 'PC_7', 'PC_4', 'PC_12', 'PC_10', 'PC_8', 'PC_9', 'PC_13']\n",
      "\n",
      "Reduced dataset saved to 'feature_selected_dataset.csv'.\n",
      "Shape of reduced dataset: (303, 13)\n"
     ]
    }
   ],
   "source": [
    "print(\"\\nSelecting final features based on Random Forest importance...\")\n",
    "final_features = importances.index[:12].tolist()\n",
    "print(\"Final selected features:\", final_features)\n",
    "\n",
    "df_reduced = df[final_features + ['target']]\n",
    "df_reduced.to_csv('feature_selected_dataset.csv', index=False)\n",
    "print(\"\\nReduced dataset saved to 'feature_selected_dataset.csv'.\")\n",
    "print(\"Shape of reduced dataset:\", df_reduced.shape)"
   ]
  }
 ],
 "metadata": {
  "kaggle": {
   "accelerator": "none",
   "dataSources": [],
   "isGpuEnabled": false,
   "isInternetEnabled": true,
   "language": "python",
   "sourceType": "notebook"
  },
  "kernelspec": {
   "display_name": "Python 3",
   "language": "python",
   "name": "python3"
  },
  "language_info": {
   "codemirror_mode": {
    "name": "ipython",
    "version": 3
   },
   "file_extension": ".py",
   "mimetype": "text/x-python",
   "name": "python",
   "nbconvert_exporter": "python",
   "pygments_lexer": "ipython3",
   "version": "3.13.6"
  }
 },
 "nbformat": 4,
 "nbformat_minor": 4
}
