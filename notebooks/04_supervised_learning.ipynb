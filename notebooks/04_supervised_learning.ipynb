
#
# =================================================================================================
# Notebook: 04_supervised_learning.ipynb
#
# Description:
# This notebook trains and evaluates multiple supervised learning models for classification.
# =================================================================================================

import pandas as pd
import matplotlib.pyplot as plt
from sklearn.model_selection import train_test_split
from sklearn.linear_model import LogisticRegression
from sklearn.tree import DecisionTreeClassifier
from sklearn.ensemble import RandomForestClassifier
from sklearn.svm import SVC
from sklearn.metrics import accuracy_score, precision_score, recall_score, f1_score, roc_curve, auc, classification_report

# Load the feature-selected dataset
try:
    df = pd.read_csv('feature_selected_dataset.csv')
    print("Feature-selected dataset loaded.")
except FileNotFoundError:
    print("Error: 'feature_selected_dataset.csv' not found.")
    exit()

# =================================================================================================
# Sprint 2.4: Supervised Learning - Classification Models
# =================================================================================================

# -------------------------------------------------------------------------------------------------
# Step 1: Split the dataset into training (80%) and testing (20%) sets.
# -------------------------------------------------------------------------------------------------
X = df.drop('target', axis=1)
y = df['target']
X_train, X_test, y_train, y_test = train_test_split(X, y, test_size=0.2, random_state=42, stratify=y)
final_model_columns = list(X_train.columns)
print("Copy this exact list of columns for your Streamlit app:")
print(final_model_columns)
print(f"Data split complete: {len(X_train)} training samples, {len(X_test)} testing samples.")

# -------------------------------------------------------------------------------------------------
# Step 2 & 3: Train and Evaluate Models
# -------------------------------------------------------------------------------------------------
models = {
    "Logistic Regression": LogisticRegression(max_iter=1000, random_state=42),
    "Decision Tree": DecisionTreeClassifier(random_state=42),
    "Random Forest": RandomForestClassifier(random_state=42),
    "Support Vector Machine": SVC(probability=True, random_state=42) # probability=True for ROC curve
}

results = {}
plt.figure(figsize=(10, 8))

for name, model in models.items():
    print(f"\n--- Training {name} ---")
    model.fit(X_train, y_train)
    y_pred = model.predict(X_test)
    y_prob = model.predict_proba(X_test)[:, 1]

    # Evaluate metrics
    accuracy = accuracy_score(y_test, y_pred)
    precision = precision_score(y_test, y_pred)
    recall = recall_score(y_test, y_pred)
    f1 = f1_score(y_test, y_pred)
    fpr, tpr, _ = roc_curve(y_test, y_prob)
    roc_auc = auc(fpr, tpr)

    results[name] = {
        'Accuracy': accuracy,
        'Precision': precision,
        'Recall': recall,
        'F1-Score': f1,
        'AUC': roc_auc
    }

    print(f"Accuracy: {accuracy:.4f}")
    print(classification_report(y_test, y_pred))

    # Plot ROC curve
    plt.plot(fpr, tpr, label=f'{name} (AUC = {roc_auc:.2f})')

# Finalize ROC plot
plt.plot([0, 1], [0, 1], 'k--', label='Chance')
plt.xlim([0.0, 1.0])
plt.ylim([0.0, 1.05])
plt.xlabel('False Positive Rate')
plt.ylabel('True Positive Rate')
plt.title('Receiver Operating Characteristic (ROC) Curve')
plt.legend(loc="lower right")
plt.grid()
plt.show()

# -------------------------------------------------------------------------------------------------
# Deliverable: Trained models with performance metrics
# -------------------------------------------------------------------------------------------------
results_df = pd.DataFrame(results).T
print("\n--- Performance Comparison of All Models ---")
print(results_df)
# Save results to a file
results_df.to_csv('results/evaluation_metrics.csv')
print("\nEvaluation metrics saved to 'results/evaluation_metrics.csv'")
