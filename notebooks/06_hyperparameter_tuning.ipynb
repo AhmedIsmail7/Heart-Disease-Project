
#
# =================================================================================================
# Notebook: 06_hyperparameter_tuning.ipynb
#
# Description:
# This notebook uses GridSearchCV and RandomizedSearchCV to find the optimal
# hyperparameters for the best-performing model from the previous step.
# =================================================================================================

import pandas as pd
import joblib
from sklearn.model_selection import train_test_split, GridSearchCV, RandomizedSearchCV
from sklearn.ensemble import RandomForestClassifier
from sklearn.metrics import accuracy_score, classification_report
from sklearn.pipeline import Pipeline

# Load the feature-selected dataset
try:
    df = pd.read_csv('feature_selected_dataset.csv')
    print("Feature-selected dataset loaded.")
except FileNotFoundError:
    print("Error: 'feature_selected_dataset.csv' not found.")
    exit()

X = df.drop('target', axis=1)
y = df['target']
X_train, X_test, y_train, y_test = train_test_split(X, y, test_size=0.2, random_state=42, stratify=y)

# Based on notebook 04, Random Forest was a top performer. Let's tune it.
base_model = Pipeline([
    ('scaler', StandardScaler()),
    ('classifier', RandomForestClassifier(random_state=42))
])
base_model.fit(X_train, y_train)
y_pred_base = base_model.predict(X_test)
print("--- Baseline Random Forest Performance ---")
print(f"Accuracy: {accuracy_score(y_test, y_pred_base):.4f}")

# =================================================================================================
# Sprint 2.6: Hyperparameter Tuning
# =================================================================================================

# -------------------------------------------------------------------------------------------------
# Step 1: Use GridSearchCV & RandomizedSearchCV to optimize hyperparameters.
# -------------------------------------------------------------------------------------------------
param_grid = {
    'classifier__n_estimators': [100, 200, 300],
    'classifier__max_depth': [None, 10, 20, 30],
    'classifier__min_samples_split': [2, 5, 10],
    'classifier__min_samples_leaf': [1, 2, 4],
    'classifier__bootstrap': [True, False]
}

# --- RandomizedSearchCV (often faster) ---
print("\n--- Running RandomizedSearchCV ---")
rf_random = RandomizedSearchCV(estimator=base_model,
                               param_distributions=param_grid,
                               n_iter=100, # Number of parameter settings that are sampled
                               cv=5,       # 5-fold cross-validation
                               verbose=1,
                               random_state=42,
                               n_jobs=-1) # Use all available cores
rf_random.fit(X_train, y_train)
print("Best parameters from RandomizedSearch:", rf_random.best_params_)

# --- GridSearchCV (more exhaustive) ---
# Note: This can be slow. We'll use a smaller grid for demonstration.
param_grid_grid = {
    'classifier__n_estimators': [100, 200, 300],
    'classifier__max_depth': [10, 20, None],
    'classifier__min_samples_split': [2, 5, 10],
    'classifier__min_samples_leaf': [1, 2, 4]
}
print("\n--- Running GridSearchCV ---")
grid_search = GridSearchCV(estimator=base_model,
                           param_grid=param_grid_grid,
                           cv=5,
                           n_jobs=-1,
                           verbose=1)
grid_search.fit(X_train, y_train)
print("Best parameters from GridSearchCV:", grid_search.best_params_)

# -------------------------------------------------------------------------------------------------
# Deliverable: Best performing model with optimized hyperparameters
# -------------------------------------------------------------------------------------------------
# We will use the results from GridSearchCV as it's more exhaustive.
best_model = grid_search.best_estimator_
y_pred_best = best_model.predict(X_test)

print("\n--- Final Model Performance after Hyperparameter Tuning ---")
print(classification_report(y_test, y_pred_best))

# =================================================================================================
# Sprint 2.7: Model Export
# =================================================================================================
# Save the final, tuned model to a file
joblib.dump(best_model, 'models/final_model.pkl')
print("\nOptimized model saved to 'models/final_model.pkl'")
