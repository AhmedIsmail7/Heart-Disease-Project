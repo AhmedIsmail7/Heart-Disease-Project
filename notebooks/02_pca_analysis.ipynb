{
 "cells": [
  {
   "cell_type": "code",
   "execution_count": null,
   "metadata": {
    "trusted": true
   },
   "outputs": [],
   "source": [
    "import pandas as pd\n",
    "import numpy as np\n",
    "import matplotlib.pyplot as plt\n",
    "from sklearn.decomposition import PCA\n",
    "from sklearn.preprocessing import StandardScaler\n",
    "\n",
    "try:\n",
    "    df = pd.read_csv('cleaned_heart_disease.csv')\n",
    "    print(\"Cleaned dataset loaded successfully.\")\n",
    "except FileNotFoundError:\n",
    "    print(\"Error: 'cleaned_heart_disease.csv' not found.\")\n",
    "    print(\"Please run the '01_data_preprocessing.ipynb' notebook first.\")\n",
    "    exit()\n",
    "\n",
    "X = df.drop('target', axis=1)\n",
    "y = df['target']\n",
    "\n",
    "\n",
    "print(\"\\nStep 1: Applying PCA...\")\n",
    "pca = PCA()\n",
    "X_pca = pca.fit_transform(X)\n",
    "print(\"PCA applied successfully.\")\n",
    "\n",
    "print(\"\\nStep 2: Plotting explained variance...\")\n",
    "explained_variance_ratio = pca.explained_variance_ratio_\n",
    "cumulative_variance = np.cumsum(explained_variance_ratio)\n",
    "\n",
    "plt.figure(figsize=(10, 6))\n",
    "plt.plot(range(1, len(cumulative_variance) + 1), cumulative_variance, marker='o', linestyle='--')\n",
    "plt.title('Cumulative Explained Variance by PCA Components')\n",
    "plt.xlabel('Number of Components')\n",
    "plt.ylabel('Cumulative Explained Variance')\n",
    "plt.grid(True)\n",
    "plt.axhline(y=0.95, color='r', linestyle='-', label='95% Variance Threshold')\n",
    "plt.axhline(y=0.90, color='g', linestyle='-', label='90% Variance Threshold')\n",
    "plt.legend()\n",
    "plt.show()\n",
    "\n",
    "n_components_95 = np.where(cumulative_variance >= 0.95)[0][0] + 1\n",
    "print(f\"\\nNumber of components to retain 95% variance: {n_components_95}\")\n",
    "\n",
    "\n",
    "print(\"\\nStep 3: Visualizing first two principal components...\")\n",
    "plt.figure(figsize=(10, 7))\n",
    "scatter = plt.scatter(X_pca[:, 0], X_pca[:, 1], c=y, cmap='viridis', alpha=0.7)\n",
    "plt.title('Scatter Plot of First Two Principal Components')\n",
    "plt.xlabel('Principal Component 1')\n",
    "plt.ylabel('Principal Component 2')\n",
    "plt.legend(handles=scatter.legend_elements()[0], labels=list(y.unique()))\n",
    "plt.grid(True)\n",
    "plt.show()\n",
    "\n",
    "\n",
    "pca_final = PCA(n_components=n_components_95)\n",
    "X_pca_final = pca_final.fit_transform(X)\n",
    "\n",
    "pca_cols = [f'PC_{i+1}' for i in range(n_components_95)]\n",
    "df_pca = pd.DataFrame(X_pca_final, columns=pca_cols)\n",
    "df_pca['target'] = y.values \n",
    "\n",
    "df_pca.to_csv('pca_transformed_dataset.csv', index=False)\n",
    "print(f\"\\nPCA-transformed dataset with {n_components_95} components saved to 'pca_transformed_dataset.csv'.\")\n",
    "print(\"\\nFinal shape of PCA dataset:\", df_pca.shape)"
   ]
  }
 ],
 "metadata": {
  "kaggle": {
   "accelerator": "none",
   "dataSources": [],
   "isGpuEnabled": false,
   "isInternetEnabled": true,
   "language": "python",
   "sourceType": "notebook"
  },
  "kernelspec": {
   "display_name": "Python 3",
   "language": "python",
   "name": "python3"
  },
  "language_info": {
   "codemirror_mode": {
    "name": "ipython",
    "version": 3
   },
   "file_extension": ".py",
   "mimetype": "text/x-python",
   "name": "python",
   "nbconvert_exporter": "python",
   "pygments_lexer": "ipython3",
   "version": "3.6.4"
  }
 },
 "nbformat": 4,
 "nbformat_minor": 4
}
