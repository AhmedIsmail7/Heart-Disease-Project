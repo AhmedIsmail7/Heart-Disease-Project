
#
# =================================================================================================
# Notebook: 02_pca_analysis.ipynb
#
# Description:
# This notebook applies Principal Component Analysis (PCA) to the cleaned dataset.
# It aims to reduce the number of features while retaining most of the data's variance.
# =================================================================================================

import pandas as pd
import numpy as np
import matplotlib.pyplot as plt
from sklearn.decomposition import PCA
from sklearn.preprocessing import StandardScaler

# Load the cleaned dataset from the previous step
try:
    df = pd.read_csv('cleaned_heart_disease.csv')
    print("Cleaned dataset loaded successfully.")
except FileNotFoundError:
    print("Error: 'cleaned_heart_disease.csv' not found.")
    print("Please run the '01_data_preprocessing.ipynb' notebook first.")
    exit()

# Separate features (X) and target (y)
X = df.drop('target', axis=1)
y = df['target']

# =================================================================================================
# Sprint 2.2: Dimensionality Reduction - PCA
# =================================================================================================

# -------------------------------------------------------------------------------------------------
# Step 1: Apply PCA to reduce feature dimensionality.
# -------------------------------------------------------------------------------------------------
print("\nStep 1: Applying PCA...")
# Although features were scaled in notebook 01, it's good practice to ensure
# the data fed into PCA is scaled, as PCA is sensitive to feature scales.
# Since we loaded the already-scaled data, we can proceed.
pca = PCA()
X_pca = pca.fit_transform(X)
print("PCA applied successfully.")

# -------------------------------------------------------------------------------------------------
# Step 2: Determine the optimal number of components using explained variance ratio.
# -------------------------------------------------------------------------------------------------
print("\nStep 2: Plotting explained variance...")
explained_variance_ratio = pca.explained_variance_ratio_
cumulative_variance = np.cumsum(explained_variance_ratio)

# Plotting the cumulative variance
plt.figure(figsize=(10, 6))
plt.plot(range(1, len(cumulative_variance) + 1), cumulative_variance, marker='o', linestyle='--')
plt.title('Cumulative Explained Variance by PCA Components')
plt.xlabel('Number of Components')
plt.ylabel('Cumulative Explained Variance')
plt.grid(True)
plt.axhline(y=0.95, color='r', linestyle='-', label='95% Variance Threshold')
plt.axhline(y=0.90, color='g', linestyle='-', label='90% Variance Threshold')
plt.legend()
plt.show()

# Find the number of components that explain at least 95% of the variance
n_components_95 = np.where(cumulative_variance >= 0.95)[0][0] + 1
print(f"\nNumber of components to retain 95% variance: {n_components_95}")


# -------------------------------------------------------------------------------------------------
# Step 3: Visualize PCA results using a scatter plot.
# -------------------------------------------------------------------------------------------------
print("\nStep 3: Visualizing first two principal components...")
plt.figure(figsize=(10, 7))
scatter = plt.scatter(X_pca[:, 0], X_pca[:, 1], c=y, cmap='viridis', alpha=0.7)
plt.title('Scatter Plot of First Two Principal Components')
plt.xlabel('Principal Component 1')
plt.ylabel('Principal Component 2')
plt.legend(handles=scatter.legend_elements()[0], labels=list(y.unique()))
plt.grid(True)
plt.show()


# -------------------------------------------------------------------------------------------------
# Deliverable: PCA-transformed dataset
# -------------------------------------------------------------------------------------------------
# For modeling, we'll choose the number of components that explain 95% variance
pca_final = PCA(n_components=n_components_95)
X_pca_final = pca_final.fit_transform(X)

# Create a new DataFrame with the PCA results
pca_cols = [f'PC_{i+1}' for i in range(n_components_95)]
df_pca = pd.DataFrame(X_pca_final, columns=pca_cols)
df_pca['target'] = y.values # Add the target back

# Save the PCA-transformed dataset
df_pca.to_csv('pca_transformed_dataset.csv', index=False)
print(f"\nPCA-transformed dataset with {n_components_95} components saved to 'pca_transformed_dataset.csv'.")
print("\nFinal shape of PCA dataset:", df_pca.shape)
